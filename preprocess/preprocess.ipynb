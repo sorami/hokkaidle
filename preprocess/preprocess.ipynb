{
 "cells": [
  {
   "cell_type": "code",
   "execution_count": 1,
   "id": "a8126b3e",
   "metadata": {},
   "outputs": [],
   "source": [
    "import json\n",
    "from pathlib import Path\n",
    "from collections import Counter, defaultdict\n",
    "from itertools import chain\n",
    "from urllib.parse import quote\n",
    "\n",
    "from lxml import etree\n",
    "from SPARQLWrapper import SPARQLWrapper\n",
    "import requests\n",
    "from tqdm.notebook import tqdm"
   ]
  },
  {
   "cell_type": "markdown",
   "id": "373a04d6",
   "metadata": {},
   "source": [
    "## 北海道の市町村TopoJSON\n",
    "\n",
    "[北海道のTopoJSON: 札幌市の区をマージ / Sorami Hisamoto / Observable](https://observablehq.com/@sorami/hokkaido-topojson-merge-sapporo)"
   ]
  },
  {
   "cell_type": "code",
   "execution_count": 2,
   "id": "af02be1b",
   "metadata": {},
   "outputs": [
    {
     "data": {
      "text/plain": [
       "185"
      ]
     },
     "execution_count": 2,
     "metadata": {},
     "output_type": "execute_result"
    }
   ],
   "source": [
    "with open(\"../public/hokkaido.topojson\") as fp:\n",
    "    topo = json.load(fp)\n",
    "len(topo[\"objects\"][\"hokkaido\"][\"geometries\"])"
   ]
  },
  {
   "cell_type": "code",
   "execution_count": 3,
   "id": "8101cdc9",
   "metadata": {},
   "outputs": [
    {
     "data": {
      "text/plain": [
       "{'code': '01100', 'name': '札幌市', 'region': '石狩振興局'}"
      ]
     },
     "execution_count": 3,
     "metadata": {},
     "output_type": "execute_result"
    }
   ],
   "source": [
    "topo[\"objects\"][\"hokkaido\"][\"geometries\"][0][\"properties\"]"
   ]
  },
  {
   "cell_type": "code",
   "execution_count": 4,
   "id": "fdde64b7",
   "metadata": {},
   "outputs": [
    {
     "data": {
      "text/plain": [
       "[{'code': '01100', 'name': '札幌市', 'region': '石狩振興局'},\n",
       " {'code': '01202', 'name': '函館市', 'region': '渡島総合振興局'},\n",
       " {'code': '01203', 'name': '小樽市', 'region': '後志総合振興局'},\n",
       " {'code': '01205', 'name': '室蘭市', 'region': '胆振総合振興局'},\n",
       " {'code': '01331', 'name': '松前町', 'region': '渡島総合振興局'}]"
      ]
     },
     "execution_count": 4,
     "metadata": {},
     "output_type": "execute_result"
    }
   ],
   "source": [
    "topo_city_list = [\n",
    "    d[\"properties\"] for d in topo[\"objects\"][\"hokkaido\"][\"geometries\"]\n",
    "]\n",
    "topo_city_list[:5]"
   ]
  },
  {
   "cell_type": "code",
   "execution_count": 5,
   "id": "0549f9dd",
   "metadata": {},
   "outputs": [
    {
     "data": {
      "text/plain": [
       "['札幌市', '函館市', '小樽市', '室蘭市', '松前町']"
      ]
     },
     "execution_count": 5,
     "metadata": {},
     "output_type": "execute_result"
    }
   ],
   "source": [
    "topo_city_names = [\n",
    "    d[\"name\"] for d in topo_city_list\n",
    "]\n",
    "topo_city_names[:5]"
   ]
  },
  {
   "cell_type": "code",
   "execution_count": 6,
   "id": "1227084b",
   "metadata": {},
   "outputs": [
    {
     "data": {
      "text/plain": [
       "Counter({'市': 35, '町': 129, '村': 21})"
      ]
     },
     "execution_count": 6,
     "metadata": {},
     "output_type": "execute_result"
    }
   ],
   "source": [
    "Counter([d[-1] for d in topo_city_names])"
   ]
  },
  {
   "cell_type": "markdown",
   "id": "2d115b9c",
   "metadata": {},
   "source": [
    "### 市町村名に使われる文字"
   ]
  },
  {
   "cell_type": "code",
   "execution_count": 7,
   "id": "00faec5e",
   "metadata": {},
   "outputs": [
    {
     "data": {
      "text/plain": [
       "243"
      ]
     },
     "execution_count": 7,
     "metadata": {},
     "output_type": "execute_result"
    }
   ],
   "source": [
    "count_per_char = Counter(chain.from_iterable(topo_city_names))\n",
    "len(count_per_char)"
   ]
  },
  {
   "cell_type": "code",
   "execution_count": 8,
   "id": "78afe739",
   "metadata": {},
   "outputs": [
    {
     "data": {
      "text/plain": [
       "[('町', 129),\n",
       " ('市', 36),\n",
       " ('別', 22),\n",
       " ('村', 21),\n",
       " ('川', 11),\n",
       " ('幌', 9),\n",
       " ('内', 9),\n",
       " ('富', 6),\n",
       " ('部', 6),\n",
       " ('上', 6)]"
      ]
     },
     "execution_count": 8,
     "metadata": {},
     "output_type": "execute_result"
    }
   ],
   "source": [
    "count_per_char.most_common(10)"
   ]
  },
  {
   "cell_type": "markdown",
   "id": "b752b6f3",
   "metadata": {},
   "source": [
    "### 重複する市町村名"
   ]
  },
  {
   "cell_type": "code",
   "execution_count": 9,
   "id": "942fa024",
   "metadata": {},
   "outputs": [
    {
     "data": {
      "text/plain": [
       "[('泊村', 2), ('札幌市', 1)]"
      ]
     },
     "execution_count": 9,
     "metadata": {},
     "output_type": "execute_result"
    }
   ],
   "source": [
    "Counter(topo_city_names).most_common(2)"
   ]
  },
  {
   "cell_type": "code",
   "execution_count": 10,
   "id": "ad924311",
   "metadata": {},
   "outputs": [
    {
     "data": {
      "text/plain": [
       "[{'code': '01403', 'name': '泊村', 'region': '後志総合振興局'},\n",
       " {'code': '01696', 'name': '泊村', 'region': '根室振興局'}]"
      ]
     },
     "execution_count": 10,
     "metadata": {},
     "output_type": "execute_result"
    }
   ],
   "source": [
    "[d for d in topo_city_list if d[\"name\"] == \"泊村\"]"
   ]
  },
  {
   "cell_type": "markdown",
   "id": "e5017c0f",
   "metadata": {},
   "source": [
    "### 市町村名の文字数"
   ]
  },
  {
   "cell_type": "code",
   "execution_count": 11,
   "id": "1f65f0f9",
   "metadata": {},
   "outputs": [
    {
     "data": {
      "text/plain": [
       "[(2, 3), (3, 136), (4, 39), (5, 7)]"
      ]
     },
     "execution_count": 11,
     "metadata": {},
     "output_type": "execute_result"
    }
   ],
   "source": [
    "sorted(Counter([len(d) for d in topo_city_names]).items())"
   ]
  },
  {
   "cell_type": "code",
   "execution_count": 12,
   "id": "24dc7bf7",
   "metadata": {},
   "outputs": [
    {
     "data": {
      "text/plain": [
       "['新十津川町',\n",
       " '上富良野町',\n",
       " '中富良野町',\n",
       " '南富良野町',\n",
       " '音威子府村',\n",
       " '利尻富士町',\n",
       " '新ひだか町',\n",
       " 'せたな町',\n",
       " '岩見沢市',\n",
       " '苫小牧市']"
      ]
     },
     "execution_count": 12,
     "metadata": {},
     "output_type": "execute_result"
    }
   ],
   "source": [
    "sorted(topo_city_names, key=lambda d: len(d), reverse=True)[:10]"
   ]
  },
  {
   "cell_type": "markdown",
   "id": "7757ef52",
   "metadata": {},
   "source": [
    "## 市町村情報の集約"
   ]
  },
  {
   "cell_type": "markdown",
   "id": "09a6ce08",
   "metadata": {},
   "source": [
    "### 国土数値情報の市区町村役場データをパース"
   ]
  },
  {
   "cell_type": "markdown",
   "id": "b694791c",
   "metadata": {},
   "source": [
    "元データ: [国土数値情報 | 市区町村役場データ](https://nlftp.mlit.go.jp/ksj/gml/datalist/KsjTmplt-P34.html)"
   ]
  },
  {
   "cell_type": "markdown",
   "id": "83b21fac",
   "metadata": {},
   "source": [
    "```xml\n",
    "<ksj:Dataset gml:id=\"P34Dataset\" xmlns:ksj=\"http://nlftp.mlit.go.jp/ksj/schemas/ksj-app\" xmlns:gml=\"http://www.opengis.net/gml/3.2\" xmlns:xlink=\"http://www.w3.org/1999/xlink\" xmlns:xsi=\"http://www.w3.org/2001/XMLSchema-instance\" xsi:schemaLocation=\"http://nlftp.mlit.go.jp/ksj/schemas/ksj-app KsjAppSchema-P34-v2_0.xsd\">\n",
    "\n",
    "...\n",
    "    \n",
    "<gml:Point gml:id=\"p1\">\n",
    "\t<gml:pos>43.06197200 141.35437400</gml:pos>\n",
    "</gml:Point>\n",
    "\n",
    "...\n",
    "\n",
    "<ksj:LocalGovernmentOfficeAndPublicMeetingFacility gml:id=\"fe01_1\">\n",
    "\t<ksj:position xlink:href=\"#p1\"/>\n",
    "\t<ksj:administrativeAreaCode codeSpace=\"AdministrativeAreaCode.xml\">01100</ksj:administrativeAreaCode>\n",
    "\t<ksj:publicOfficeClassification>1</ksj:publicOfficeClassification>\n",
    "\t<ksj:publicOfficeName>札幌市役所</ksj:publicOfficeName>\n",
    "\t<ksj:address>札幌市中央区北1条西2</ksj:address>\n",
    "</ksj:LocalGovernmentOfficeAndPublicMeetingFacility>\n",
    "```"
   ]
  },
  {
   "cell_type": "code",
   "execution_count": 13,
   "id": "cb144910",
   "metadata": {},
   "outputs": [],
   "source": [
    "tree = etree.parse(\"./P34-14_01_GML/P34-14_01.xml\")\n",
    "namespaces = {\n",
    "    \"ksj\": \"http://nlftp.mlit.go.jp/ksj/schemas/ksj-app\",\n",
    "    \"gml\": \"http://www.opengis.net/gml/3.2\",\n",
    "    \"xlink\": \"http://www.w3.org/1999/xlink\"\n",
    "}"
   ]
  },
  {
   "cell_type": "code",
   "execution_count": 14,
   "id": "910e6fb1",
   "metadata": {
    "scrolled": true
   },
   "outputs": [
    {
     "data": {
      "text/plain": [
       "373"
      ]
     },
     "execution_count": 14,
     "metadata": {},
     "output_type": "execute_result"
    }
   ],
   "source": [
    "facility_nodes = tree.xpath(\"ksj:LocalGovernmentOfficeAndPublicMeetingFacility\", namespaces=namespaces)\n",
    "len(facility_nodes)"
   ]
  },
  {
   "cell_type": "code",
   "execution_count": 15,
   "id": "0b3436bf",
   "metadata": {},
   "outputs": [],
   "source": [
    "def parse_facility_info(node):\n",
    "    href = node.xpath(\"ksj:position/@xlink:href\", namespaces=namespaces)[0]\n",
    "\n",
    "    area_code = node.xpath(\"ksj:administrativeAreaCode\", namespaces=namespaces)[0].text\n",
    "    \n",
    "    # 施設分類: 1 = 本庁（市役所、区役所、町役場、村役場）, 2 = 支所、出張所、連絡所\n",
    "    classification = node.xpath(\"ksj:publicOfficeClassification\", namespaces=namespaces)[0].text\n",
    "\n",
    "    name = node.xpath(\"ksj:publicOfficeName\", namespaces=namespaces)[0].text\n",
    "    address = node.xpath(\"ksj:address\", namespaces=namespaces)[0].text\n",
    "    \n",
    "    return {\n",
    "        \"href\": href,\n",
    "        \"code\": area_code,\n",
    "        \"class\": classification,\n",
    "        \"name\": name,\n",
    "        \"address\": address\n",
    "    }"
   ]
  },
  {
   "cell_type": "code",
   "execution_count": 16,
   "id": "794df009",
   "metadata": {},
   "outputs": [
    {
     "data": {
      "text/plain": [
       "[{'href': '#p1',\n",
       "  'code': '01100',\n",
       "  'class': '1',\n",
       "  'name': '札幌市役所',\n",
       "  'address': '札幌市中央区北1条西2'},\n",
       " {'href': '#p2',\n",
       "  'code': '01101',\n",
       "  'class': '1',\n",
       "  'name': '札幌市中央区役所',\n",
       "  'address': '札幌市中央区南3条西11'},\n",
       " {'href': '#p3',\n",
       "  'code': '01102',\n",
       "  'class': '1',\n",
       "  'name': '札幌市北区役所',\n",
       "  'address': '札幌市北区北24条西6-1-1'}]"
      ]
     },
     "execution_count": 16,
     "metadata": {},
     "output_type": "execute_result"
    }
   ],
   "source": [
    "facilities = [parse_facility_info(node) for node in facility_nodes]\n",
    "facilities[:3]"
   ]
  },
  {
   "cell_type": "markdown",
   "id": "9dca712f",
   "metadata": {},
   "source": [
    "### 緯度経度"
   ]
  },
  {
   "cell_type": "code",
   "execution_count": 17,
   "id": "b78c5df2",
   "metadata": {},
   "outputs": [],
   "source": [
    "facility_positions = {}\n",
    "\n",
    "for fac in facilities:\n",
    "    if fac[\"class\"] != \"1\":\n",
    "        continue\n",
    "    assert fac[\"code\"] not in facility_positions, fac[\"code\"]\n",
    "\n",
    "    href = fac[\"href\"].replace(\"#\", \"\")\n",
    "    pos_raw = tree.xpath(f\"gml:Point[@gml:id='{href}']/gml:pos\", namespaces=namespaces)[0].text\n",
    "    lat, lon = map(float, pos_raw.split())\n",
    "    \n",
    "    facility_positions[fac[\"code\"]] = {\"lat\": lat, \"lon\": lon}"
   ]
  },
  {
   "cell_type": "markdown",
   "id": "f7c20dbb",
   "metadata": {},
   "source": [
    "### 市町村"
   ]
  },
  {
   "cell_type": "code",
   "execution_count": 18,
   "id": "c8ac52b5",
   "metadata": {},
   "outputs": [
    {
     "data": {
      "text/plain": [
       "(179,\n",
       " [('01100',\n",
       "   {'code': '01100',\n",
       "    'name': '札幌市',\n",
       "    'region': '石狩振興局',\n",
       "    'coordinates': [141.354374, 43.061972]}),\n",
       "  ('01202',\n",
       "   {'code': '01202',\n",
       "    'name': '函館市',\n",
       "    'region': '渡島総合振興局',\n",
       "    'coordinates': [140.729108, 41.768712]}),\n",
       "  ('01203',\n",
       "   {'code': '01203',\n",
       "    'name': '小樽市',\n",
       "    'region': '後志総合振興局',\n",
       "    'coordinates': [140.99460538, 43.19075267]})])"
      ]
     },
     "execution_count": 18,
     "metadata": {},
     "output_type": "execute_result"
    }
   ],
   "source": [
    "municipalities = {}\n",
    "northern_territories = {}\n",
    "\n",
    "for city in topo_city_list:\n",
    "    code = city[\"code\"]\n",
    "    if code not in facility_positions:\n",
    "        northern_territories[code] = {\n",
    "            \"code\": code,\n",
    "            \"name\": city[\"name\"],\n",
    "            \"region\": city[\"region\"]\n",
    "        }\n",
    "        continue\n",
    "    \n",
    "    pos = facility_positions[code]\n",
    "    assert code not in municipalities\n",
    "    municipalities[code] = {\n",
    "        \"code\": code,\n",
    "        \"name\": city[\"name\"],\n",
    "        \"region\": city[\"region\"],\n",
    "        \"coordinates\": [pos[\"lon\"], pos[\"lat\"]]\n",
    "    }\n",
    "\n",
    "len(municipalities), list(municipalities.items())[:3]"
   ]
  },
  {
   "cell_type": "markdown",
   "id": "4fdde2d5",
   "metadata": {},
   "source": [
    "### 北方地域: 緯度経度情報を追加"
   ]
  },
  {
   "cell_type": "code",
   "execution_count": 19,
   "id": "41be68e9",
   "metadata": {},
   "outputs": [
    {
     "data": {
      "text/plain": [
       "{'01700': {'code': '01700', 'name': '蘂取村', 'region': '根室振興局'},\n",
       " '01695': {'code': '01695', 'name': '色丹村', 'region': '根室振興局'},\n",
       " '01696': {'code': '01696', 'name': '泊村', 'region': '根室振興局'},\n",
       " '01697': {'code': '01697', 'name': '留夜別村', 'region': '根室振興局'},\n",
       " '01698': {'code': '01698', 'name': '留別村', 'region': '根室振興局'},\n",
       " '01699': {'code': '01699', 'name': '紗那村', 'region': '根室振興局'}}"
      ]
     },
     "execution_count": 19,
     "metadata": {},
     "output_type": "execute_result"
    }
   ],
   "source": [
    "northern_territories"
   ]
  },
  {
   "cell_type": "markdown",
   "id": "d7c37a97",
   "metadata": {},
   "source": [
    "\n",
    "[歴史的行政区域データセットβ版 | Geoshapeリポジトリ](https://geoshape.ex.nii.ac.jp/city/) CC BY 4.0\n",
    "\n",
    "代表点（ポリゴンの重心）\n",
    "\n",
    "- [北海道色丹郡色丹村 (01695A1968) | 歴史的行政区域データセットβ版](https://geoshape.ex.nii.ac.jp/city/resource/01695A1968.html) ` 43.800739, 146.738866`\n",
    "- [北海道国後郡泊村 (01696A1968) | 歴史的行政区域データセットβ版](https://geoshape.ex.nii.ac.jp/city/resource/01696A1968.html) `43.909815, 145.623708`\n",
    "- [北海道国後郡留夜別村 (01697A1968) | 歴史的行政区域データセットβ版](https://geoshape.ex.nii.ac.jp/city/resource/01697A1968.html) `44.319813, 146.127440`\n",
    "- [北海道択捉郡留別村 (01698A1968) | 歴史的行政区域データセットβ版](https://geoshape.ex.nii.ac.jp/city/resource/01698A1968.html) `44.830710, 147.407788`\n",
    "- [北海道紗那郡紗那村 (01699A1968) | 歴史的行政区域データセットβ版](https://geoshape.ex.nii.ac.jp/city/resource/01699A1968.html) `45.199148, 148.000166`\n",
    "- [北海道蘂取郡蘂取村 (01700A1968) | 歴史的行政区域データセットβ版](https://geoshape.ex.nii.ac.jp/city/resource/01700A1968.html) `45.556628, 148.772557`"
   ]
  },
  {
   "cell_type": "code",
   "execution_count": 20,
   "id": "34a8933d",
   "metadata": {},
   "outputs": [],
   "source": [
    "northern_territories[\"01695\"][\"coordinates\"] = [146.738866, 43.800739] # 色丹村\n",
    "northern_territories[\"01696\"][\"coordinates\"] = [145.623708, 43.909815] # 泊村\n",
    "northern_territories[\"01697\"][\"coordinates\"] = [146.127440, 44.319813] # 留夜別村\n",
    "northern_territories[\"01698\"][\"coordinates\"] = [147.407788, 44.830710] # 留別村\n",
    "northern_territories[\"01699\"][\"coordinates\"] = [148.000166, 45.199148] # 紗那村\n",
    "northern_territories[\"01700\"][\"coordinates\"] = [148.772557, 45.556628] # 蘂取村"
   ]
  },
  {
   "cell_type": "code",
   "execution_count": 21,
   "id": "b4635d94",
   "metadata": {
    "scrolled": false
   },
   "outputs": [
    {
     "data": {
      "text/plain": [
       "185"
      ]
     },
     "execution_count": 21,
     "metadata": {},
     "output_type": "execute_result"
    }
   ],
   "source": [
    "city_dict = municipalities | northern_territories\n",
    "len(city_dict)"
   ]
  },
  {
   "cell_type": "markdown",
   "id": "73ada17a",
   "metadata": {},
   "source": [
    "### 重複する市町村名を調整"
   ]
  },
  {
   "cell_type": "code",
   "execution_count": 22,
   "id": "162830bd",
   "metadata": {},
   "outputs": [],
   "source": [
    "city_dict[\"01403\"][\"name\"] = \"泊村:後志\"\n",
    "city_dict[\"01696\"][\"name\"] = \"泊村:根室\""
   ]
  },
  {
   "cell_type": "markdown",
   "id": "f7a90dab",
   "metadata": {},
   "source": [
    "### Wikipediaページ"
   ]
  },
  {
   "cell_type": "code",
   "execution_count": 23,
   "id": "21242064",
   "metadata": {},
   "outputs": [],
   "source": [
    "# wiki_unknown_codes = []\n",
    "\n",
    "# for code, info in tqdm(city_dict.items()):\n",
    "#     name = info[\"name\"]\n",
    "#     url = f\"https://ja.wikipedia.org/wiki/{quote(name)}\"\n",
    "#     res = requests.get(url)\n",
    "#     if res.status_code != 200:\n",
    "#          wiki_unknown_codes.append(code)\n",
    "        \n",
    "# len(wiki_unknown_codes) # ['01403', '01696']"
   ]
  },
  {
   "cell_type": "code",
   "execution_count": 24,
   "id": "747d4469",
   "metadata": {},
   "outputs": [],
   "source": [
    "for info in city_dict.values():\n",
    "    name = info[\"name\"]\n",
    "    url = f\"https://ja.wikipedia.org/wiki/{quote(name)}\"\n",
    "    info[\"wikipedia\"] = url\n",
    "\n",
    "city_dict[\"01403\"][\"wikipedia\"] = f\"https://ja.wikipedia.org/wiki/{quote('泊村')}\"\n",
    "city_dict[\"01696\"][\"wikipedia\"] = f\"https://ja.wikipedia.org/wiki/{quote('泊村_(北海道根室振興局)')}\""
   ]
  },
  {
   "cell_type": "markdown",
   "id": "b2974267",
   "metadata": {},
   "source": [
    "### Wikipedia概要文\n",
    "\n",
    "[people-map-japan/4_people_for_map.ipynb at main · sorami/people-map-japan](https://github.com/sorami/people-map-japan/blob/main/preparation/code/4_people_for_map.ipynb)"
   ]
  },
  {
   "cell_type": "code",
   "execution_count": 25,
   "id": "9f142874",
   "metadata": {},
   "outputs": [],
   "source": [
    "sparql = SPARQLWrapper(endpoint=\"http://ja.dbpedia.org/sparql\", returnFormat=\"json\")\n",
    "\n",
    "def get_wikipedia_abstract(page):\n",
    "    sparql.setQuery(f\"\"\"\n",
    "        SELECT DISTINCT * \n",
    "        WHERE {{\n",
    "            <http://ja.dbpedia.org/resource/{page}>\n",
    "            dbo:abstract\n",
    "            ?o .\n",
    "            }}\n",
    "    \"\"\")\n",
    "    res = sparql.query().convert()\n",
    "    bindings = res[\"results\"][\"bindings\"]\n",
    "    if len(bindings) < 1:\n",
    "        return \"\"\n",
    "    return bindings[0][\"o\"][\"value\"]"
   ]
  },
  {
   "cell_type": "code",
   "execution_count": 26,
   "id": "98a3e1c6",
   "metadata": {},
   "outputs": [
    {
     "data": {
      "text/plain": [
       "'札幌市（さっぽろし）は、北海道の道央地方に位置し、石狩振興局に属する市。道庁所在地にして石狩振興局所在地でもあり、北海道の政治・経済・文化の中心地となっている。北海道最大の人口（約196万人）を有する政令指定都市である。'"
      ]
     },
     "execution_count": 26,
     "metadata": {},
     "output_type": "execute_result"
    }
   ],
   "source": [
    "get_wikipedia_abstract(\"札幌市\")"
   ]
  },
  {
   "cell_type": "code",
   "execution_count": 27,
   "id": "d932a771",
   "metadata": {
    "scrolled": false
   },
   "outputs": [
    {
     "data": {
      "application/vnd.jupyter.widget-view+json": {
       "model_id": "abcf566d83bd443ea6650e9983f35899",
       "version_major": 2,
       "version_minor": 0
      },
      "text/plain": [
       "  0%|          | 0/185 [00:00<?, ?it/s]"
      ]
     },
     "metadata": {},
     "output_type": "display_data"
    }
   ],
   "source": [
    "for info in tqdm(city_dict.values()):\n",
    "    info[\"abstract\"] = get_wikipedia_abstract(info[\"name\"])"
   ]
  },
  {
   "cell_type": "code",
   "execution_count": 28,
   "id": "d22c15ee",
   "metadata": {},
   "outputs": [
    {
     "name": "stdout",
     "output_type": "stream",
     "text": [
      "01403 泊村:後志\n",
      "01696 泊村:根室\n"
     ]
    }
   ],
   "source": [
    "for code, info in city_dict.items():\n",
    "    if not info[\"abstract\"]:\n",
    "        print(code, info[\"name\"])"
   ]
  },
  {
   "cell_type": "code",
   "execution_count": 29,
   "id": "2eaea15c",
   "metadata": {},
   "outputs": [
    {
     "data": {
      "text/plain": [
       "'泊村（とまりむら）は、北海道後志総合振興局管内の古宇郡に属する村。北海道で唯一の原子力発電所があるため、村の財政は豊かである。 村名の由来は、中心地の入り江を指す、アイヌ語の「モイレ・トマリ（静かな・泊地）」である。'"
      ]
     },
     "execution_count": 29,
     "metadata": {},
     "output_type": "execute_result"
    }
   ],
   "source": [
    "get_wikipedia_abstract(\"泊村\")"
   ]
  },
  {
   "cell_type": "code",
   "execution_count": 30,
   "id": "bad247fe",
   "metadata": {},
   "outputs": [
    {
     "data": {
      "text/plain": [
       "'泊村（とまりむら）は、北海道根室振興局国後郡の国後島の西半分を占める村。2021年現在泊村を含む北方領土に日本の施政権は及んでおらず、法令上のみ存在する村となっている。 当該地域の領有権に関する詳細は千島列島及び北方領土問題の項目を、現状に関してはサハリン州#南クリル管区の項目を参照のこと。'"
      ]
     },
     "execution_count": 30,
     "metadata": {},
     "output_type": "execute_result"
    }
   ],
   "source": [
    "get_wikipedia_abstract(\"泊村_(北海道根室振興局)\")"
   ]
  },
  {
   "cell_type": "code",
   "execution_count": 31,
   "id": "4987a12e",
   "metadata": {},
   "outputs": [],
   "source": [
    "city_dict[\"01403\"][\"abstract\"] = get_wikipedia_abstract(\"泊村\")\n",
    "city_dict[\"01696\"][\"abstract\"] = get_wikipedia_abstract(\"泊村_(北海道根室振興局)\")\n",
    "\n",
    "assert all([d[\"abstract\"] for d in city_dict.values()])"
   ]
  },
  {
   "cell_type": "markdown",
   "id": "e3da38fd",
   "metadata": {},
   "source": [
    "# 保存"
   ]
  },
  {
   "cell_type": "code",
   "execution_count": 32,
   "id": "16233cd7",
   "metadata": {},
   "outputs": [],
   "source": [
    "cities = list(city_dict.values())"
   ]
  },
  {
   "cell_type": "code",
   "execution_count": 33,
   "id": "bae79d2b",
   "metadata": {},
   "outputs": [],
   "source": [
    "with open(\"../public/cities.json\", \"w\") as fp:\n",
    "    json.dump(cities, fp, ensure_ascii=False, indent=2)"
   ]
  },
  {
   "cell_type": "code",
   "execution_count": 34,
   "id": "e3b0da69",
   "metadata": {},
   "outputs": [
    {
     "name": "stdout",
     "output_type": "stream",
     "text": [
      "total 528\r\n",
      "-rw-r--r--  1 sorami  staff    94K  9  3 20:20 cities.json\r\n",
      "-rw-r--r--@ 1 sorami  staff   126K  9  3 15:51 hokkaido.topojson\r\n"
     ]
    }
   ],
   "source": [
    "!ls -lh ../public/"
   ]
  },
  {
   "cell_type": "code",
   "execution_count": 35,
   "id": "a5a26515",
   "metadata": {},
   "outputs": [
    {
     "name": "stdout",
     "output_type": "stream",
     "text": [
      "[\r\n",
      "  {\r\n",
      "    \"code\": \"01100\",\r\n",
      "    \"name\": \"札幌市\",\r\n",
      "    \"region\": \"石狩振興局\",\r\n",
      "    \"coordinates\": [\r\n",
      "      141.354374,\r\n",
      "      43.061972\r\n",
      "    ],\r\n",
      "    \"wikipedia\": \"https://ja.wikipedia.org/wiki/%E6%9C%AD%E5%B9%8C%E5%B8%82\",\r\n"
     ]
    }
   ],
   "source": [
    "!head ../public/cities.json"
   ]
  }
 ],
 "metadata": {
  "kernelspec": {
   "display_name": "Python 3 (ipykernel)",
   "language": "python",
   "name": "python3"
  },
  "language_info": {
   "codemirror_mode": {
    "name": "ipython",
    "version": 3
   },
   "file_extension": ".py",
   "mimetype": "text/x-python",
   "name": "python",
   "nbconvert_exporter": "python",
   "pygments_lexer": "ipython3",
   "version": "3.9.13"
  }
 },
 "nbformat": 4,
 "nbformat_minor": 5
}
